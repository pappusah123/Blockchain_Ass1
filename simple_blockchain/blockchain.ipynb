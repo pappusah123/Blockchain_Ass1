{
  "nbformat": 4,
  "nbformat_minor": 0,
  "metadata": {
    "colab": {
      "provenance": []
    },
    "kernelspec": {
      "name": "python3",
      "display_name": "Python 3"
    },
    "language_info": {
      "name": "python"
    }
  },
  "cells": [
    {
      "cell_type": "code",
      "execution_count": 1,
      "metadata": {
        "id": "vgmbeXSeWgqO"
      },
      "outputs": [],
      "source": [
        "mkdir simple_blockchain"
      ]
    },
    {
      "cell_type": "code",
      "source": [
        "cd simple_blockchain"
      ],
      "metadata": {
        "colab": {
          "base_uri": "https://localhost:8080/"
        },
        "id": "7K00CU-cWnlb",
        "outputId": "eb4064e8-a8e6-4310-970c-d60e67f1e9e8"
      },
      "execution_count": 2,
      "outputs": [
        {
          "output_type": "stream",
          "name": "stdout",
          "text": [
            "/content/simple_blockchain\n"
          ]
        }
      ]
    },
    {
      "cell_type": "code",
      "source": [
        "open(\"blockchain.py\", \"w\").close()"
      ],
      "metadata": {
        "id": "di6uAQYqWqNk"
      },
      "execution_count": 3,
      "outputs": []
    },
    {
      "cell_type": "code",
      "source": [
        "import hashlib\n",
        "import time\n",
        "import json\n",
        "import os\n",
        "\n",
        "# -----------------------------\n",
        "# Block Class\n",
        "# -----------------------------\n",
        "class Block:\n",
        "    def __init__(self, index, transactions, previous_hash, timestamp=None):\n",
        "        self.index = index\n",
        "        self.timestamp = timestamp if timestamp else time.time()\n",
        "        self.transactions = transactions\n",
        "        self.previous_hash = previous_hash\n",
        "        self.nonce = 0\n",
        "        self.hash = self.calculate_hash()\n",
        "\n",
        "    def calculate_hash(self):\n",
        "        value = str(self.index) + str(self.timestamp) + str(self.transactions) + str(self.previous_hash) + str(self.nonce)\n",
        "        return hashlib.sha256(value.encode()).hexdigest()\n",
        "\n",
        "    def mine_block(self, difficulty):\n",
        "        print(f\"⛏️ Mining block {self.index}...\")\n",
        "        target = '0' * difficulty\n",
        "        while self.hash[:difficulty] != target:\n",
        "            self.nonce += 1\n",
        "            self.hash = self.calculate_hash()\n",
        "        print(f\"✅ Block {self.index} mined with hash: {self.hash}\")"
      ],
      "metadata": {
        "id": "V4P5i12FW1ac"
      },
      "execution_count": 4,
      "outputs": []
    },
    {
      "cell_type": "code",
      "source": [
        "class Blockchain:\n",
        "    def __init__(self, difficulty=2, max_tx_per_block=3):\n",
        "        self.chain = []\n",
        "        self.difficulty = difficulty\n",
        "        self.pending_transactions = []\n",
        "        self.max_tx_per_block = max_tx_per_block\n",
        "\n",
        "        if os.path.exists(\"blockchain.json\"):\n",
        "            self.load_chain()\n",
        "        else:\n",
        "            self.create_genesis_block()\n",
        "\n",
        "    def create_genesis_block(self):\n",
        "        genesis_block = Block(0, [\"Genesis Block\"], \"0\")\n",
        "        genesis_block.mine_block(self.difficulty)\n",
        "        self.chain.append(genesis_block)\n",
        "        self.save_chain()\n",
        "\n",
        "    def get_latest_block(self):\n",
        "        return self.chain[-1]\n",
        "\n",
        "    def add_transaction(self, transaction_data):\n",
        "        self.pending_transactions.append(transaction_data)\n",
        "        if len(self.pending_transactions) >= self.max_tx_per_block:\n",
        "            self.mine_pending_transactions()\n",
        "\n",
        "    def mine_pending_transactions(self):\n",
        "        latest_block = self.get_latest_block()\n",
        "        new_block = Block(len(self.chain), self.pending_transactions[:self.max_tx_per_block], latest_block.hash)\n",
        "        new_block.mine_block(self.difficulty)\n",
        "        self.chain.append(new_block)\n",
        "        self.pending_transactions = self.pending_transactions[self.max_tx_per_block:]\n",
        "        self.save_chain()\n",
        "\n",
        "    def is_chain_valid(self):\n",
        "        for i in range(1, len(self.chain)):\n",
        "            current = self.chain[i]\n",
        "            previous = self.chain[i - 1]\n",
        "\n",
        "            if current.hash != current.calculate_hash():\n",
        "                print(f\"⚠️ Tampering detected at block {current.index}!\")\n",
        "                return False\n",
        "\n",
        "            if current.previous_hash != previous.hash:\n",
        "                print(f\"⚠️ Block {current.index} not linked properly!\")\n",
        "                return False\n",
        "\n",
        "        print(\"✅ Blockchain is valid.\")\n",
        "        return True\n",
        "\n",
        "    def display_chain(self):\n",
        "        for block in self.chain:\n",
        "            print(f\"Index: {block.index}\")\n",
        "            print(f\"Timestamp: {time.ctime(block.timestamp)}\")\n",
        "            print(f\"Transactions: {block.transactions}\")\n",
        "            print(f\"Hash: {block.hash}\")\n",
        "            print(f\"Previous Hash: {block.previous_hash}\")\n",
        "            print(\"-\" * 40)\n",
        "\n",
        "    def save_chain(self):\n",
        "        with open(\"blockchain.json\", \"w\") as f:\n",
        "            json.dump([block.__dict__ for block in self.chain], f, indent=4)\n",
        "\n",
        "    def load_chain(self):\n",
        "        with open(\"blockchain.json\", \"r\") as f:\n",
        "            data = json.load(f)\n",
        "            self.chain = []\n",
        "            for block_data in data:\n",
        "                block = Block(\n",
        "                    block_data['index'],\n",
        "                    block_data['transactions'],\n",
        "                    block_data['previous_hash'],\n",
        "                    block_data['timestamp']\n",
        "                )\n",
        "                block.nonce = block_data['nonce']\n",
        "                block.hash = block_data['hash']\n",
        "                self.chain.append(block)"
      ],
      "metadata": {
        "id": "4vlhYrYgXDBb"
      },
      "execution_count": 5,
      "outputs": []
    },
    {
      "cell_type": "code",
      "source": [
        "def menu():\n",
        "    bc = Blockchain()\n",
        "\n",
        "    while True:\n",
        "        print(\"\\n--- Blockchain Menu ---\")\n",
        "        print(\"1. Add new transaction\")\n",
        "        print(\"2. Mine pending transactions (if any)\")\n",
        "        print(\"3. Display blockchain\")\n",
        "        print(\"4. Validate blockchain\")\n",
        "        print(\"5. Exit\")\n",
        "\n",
        "        choice = input(\"Enter your choice: \")\n",
        "\n",
        "        if choice == '1':\n",
        "            tx = input(\"Enter transaction data: \")\n",
        "            bc.add_transaction(tx)\n",
        "        elif choice == '2':\n",
        "            if bc.pending_transactions:\n",
        "                bc.mine_pending_transactions()\n",
        "            else:\n",
        "                print(\"🕒 No transactions to mine.\")\n",
        "        elif choice == '3':\n",
        "            bc.display_chain()\n",
        "        elif choice == '4':\n",
        "            bc.is_chain_valid()\n",
        "        elif choice == '5':\n",
        "            break\n",
        "        else:\n",
        "            print(\"❌ Invalid choice. Try again.\")\n",
        "\n",
        "if __name__ == \"__main__\":\n",
        "    menu()\n"
      ],
      "metadata": {
        "colab": {
          "base_uri": "https://localhost:8080/"
        },
        "id": "iW56blC6XJjy",
        "outputId": "019304df-5d64-492b-ddc9-3eee1f424c7a"
      },
      "execution_count": null,
      "outputs": [
        {
          "output_type": "stream",
          "name": "stdout",
          "text": [
            "⛏️ Mining block 0...\n",
            "✅ Block 0 mined with hash: 0034cf17937ee45bf46c1ab87b717606262ea3d97f347d1d029dc713296002df\n",
            "\n",
            "--- Blockchain Menu ---\n",
            "1. Add new transaction\n",
            "2. Mine pending transactions (if any)\n",
            "3. Display blockchain\n",
            "4. Validate blockchain\n",
            "5. Exit\n",
            "Enter your choice: 3\n",
            "Index: 0\n",
            "Timestamp: Sat Jul 19 15:45:33 2025\n",
            "Transactions: ['Genesis Block']\n",
            "Hash: 0034cf17937ee45bf46c1ab87b717606262ea3d97f347d1d029dc713296002df\n",
            "Previous Hash: 0\n",
            "----------------------------------------\n",
            "\n",
            "--- Blockchain Menu ---\n",
            "1. Add new transaction\n",
            "2. Mine pending transactions (if any)\n",
            "3. Display blockchain\n",
            "4. Validate blockchain\n",
            "5. Exit\n",
            "Enter your choice: 1\n",
            "Enter transaction data: Alice pays Bob 5 BTC\n",
            "\n",
            "--- Blockchain Menu ---\n",
            "1. Add new transaction\n",
            "2. Mine pending transactions (if any)\n",
            "3. Display blockchain\n",
            "4. Validate blockchain\n",
            "5. Exit\n",
            "Enter your choice: 1\n",
            "Enter transaction data: Charlie sends Dave 3 BTC\n",
            "\n",
            "--- Blockchain Menu ---\n",
            "1. Add new transaction\n",
            "2. Mine pending transactions (if any)\n",
            "3. Display blockchain\n",
            "4. Validate blockchain\n",
            "5. Exit\n",
            "Enter your choice: 2\n",
            "⛏️ Mining block 1...\n",
            "✅ Block 1 mined with hash: 0007677ba38010662c4541123d1438079586529caafbbaed9e05a89b3e848b56\n",
            "\n",
            "--- Blockchain Menu ---\n",
            "1. Add new transaction\n",
            "2. Mine pending transactions (if any)\n",
            "3. Display blockchain\n",
            "4. Validate blockchain\n",
            "5. Exit\n",
            "Enter your choice: 3\n",
            "Index: 0\n",
            "Timestamp: Sat Jul 19 15:45:33 2025\n",
            "Transactions: ['Genesis Block']\n",
            "Hash: 0034cf17937ee45bf46c1ab87b717606262ea3d97f347d1d029dc713296002df\n",
            "Previous Hash: 0\n",
            "----------------------------------------\n",
            "Index: 1\n",
            "Timestamp: Sat Jul 19 15:49:23 2025\n",
            "Transactions: ['Alice pays Bob 5 BTC', 'Charlie sends Dave 3 BTC']\n",
            "Hash: 0007677ba38010662c4541123d1438079586529caafbbaed9e05a89b3e848b56\n",
            "Previous Hash: 0034cf17937ee45bf46c1ab87b717606262ea3d97f347d1d029dc713296002df\n",
            "----------------------------------------\n",
            "\n",
            "--- Blockchain Menu ---\n",
            "1. Add new transaction\n",
            "2. Mine pending transactions (if any)\n",
            "3. Display blockchain\n",
            "4. Validate blockchain\n",
            "5. Exit\n",
            "Enter your choice: 4\n",
            "✅ Blockchain is valid.\n",
            "\n",
            "--- Blockchain Menu ---\n",
            "1. Add new transaction\n",
            "2. Mine pending transactions (if any)\n",
            "3. Display blockchain\n",
            "4. Validate blockchain\n",
            "5. Exit\n"
          ]
        }
      ]
    }
  ]
}